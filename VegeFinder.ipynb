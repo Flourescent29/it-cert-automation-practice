{
  "cells": [
    {
      "cell_type": "markdown",
      "metadata": {
        "id": "view-in-github",
        "colab_type": "text"
      },
      "source": [
        "<a href=\"https://colab.research.google.com/github/Flourescent29/it-cert-automation-practice/blob/master/VegeFinder.ipynb\" target=\"_parent\"><img src=\"https://colab.research.google.com/assets/colab-badge.svg\" alt=\"Open In Colab\"/></a>"
      ]
    },
    {
      "cell_type": "code",
      "execution_count": null,
      "metadata": {
        "id": "SoC0My6qhcc4"
      },
      "outputs": [],
      "source": [
        "###model pre-trained MobileNetV2###"
      ]
    },
    {
      "cell_type": "code",
      "execution_count": null,
      "metadata": {
        "id": "uHRXe3T_hhTy"
      },
      "outputs": [],
      "source": [
        "import tensorflow as tf\n",
        "from tensorflow.keras.applications.mobilenet_v2 import MobileNetV2\n",
        "from tensorflow.keras.preprocessing.image import ImageDataGenerator"
      ]
    },
    {
      "cell_type": "code",
      "execution_count": null,
      "metadata": {
        "id": "hZZVLeiZho0m",
        "colab": {
          "base_uri": "https://localhost:8080/"
        },
        "outputId": "33e4baf1-5286-4121-d2c1-1a6e6858f470"
      },
      "outputs": [
        {
          "output_type": "stream",
          "name": "stdout",
          "text": [
            "Downloading data from https://storage.googleapis.com/tensorflow/keras-applications/mobilenet_v2/mobilenet_v2_weights_tf_dim_ordering_tf_kernels_1.0_224_no_top.h5\n",
            "9406464/9406464 [==============================] - 0s 0us/step\n"
          ]
        }
      ],
      "source": [
        "# Load the pre-trained MobileNetV2 model\n",
        "base_model = MobileNetV2(weights='imagenet', include_top=False, input_shape=(224, 224, 3))"
      ]
    },
    {
      "cell_type": "code",
      "execution_count": null,
      "metadata": {
        "id": "vS1vaZR8htOt"
      },
      "outputs": [],
      "source": [
        "# Freeze the base model's layers\n",
        "base_model.trainable = False"
      ]
    },
    {
      "cell_type": "code",
      "execution_count": null,
      "metadata": {
        "id": "DGDHyZGtifd_"
      },
      "outputs": [],
      "source": [
        "# Add a custom classification head\n",
        "num_classes = 38\n",
        "\n",
        "model = tf.keras.Sequential([\n",
        "    base_model,\n",
        "    tf.keras.layers.GlobalAveragePooling2D(),\n",
        "    tf.keras.layers.Dense(128, activation='relu'),\n",
        "    tf.keras.layers.Dense(num_classes, activation='softmax')\n",
        "])\n"
      ]
    },
    {
      "cell_type": "code",
      "execution_count": null,
      "metadata": {
        "id": "wxbHzrwmimHY"
      },
      "outputs": [],
      "source": [
        "# Define the data generators for training and validation\n",
        "train_datagen = ImageDataGenerator(rescale=1./255, validation_split=0.2)\n",
        "test_datagen = ImageDataGenerator(rescale=1./255)"
      ]
    },
    {
      "cell_type": "code",
      "execution_count": null,
      "metadata": {
        "colab": {
          "base_uri": "https://localhost:8080/"
        },
        "id": "zDqjU8PWjhVw",
        "outputId": "1bb4e50f-5ca9-4d58-f3c2-ce5924e443ef"
      },
      "outputs": [
        {
          "output_type": "stream",
          "name": "stdout",
          "text": [
            "Mounted at /content/drive\n"
          ]
        }
      ],
      "source": [
        "from google.colab import drive\n",
        "\n",
        "drive.mount('/content/drive')\n",
        "\n",
        "dataset_path = '/content/drive/MyDrive/VegeFinderCopy'\n"
      ]
    },
    {
      "cell_type": "code",
      "execution_count": null,
      "metadata": {
        "colab": {
          "base_uri": "https://localhost:8080/"
        },
        "id": "M0WN4UEEi8Ik",
        "outputId": "07f06fe7-0907-4ead-9267-373780be84f9"
      },
      "outputs": [
        {
          "output_type": "stream",
          "name": "stdout",
          "text": [
            "Found 4178 images belonging to 38 classes.\n"
          ]
        }
      ],
      "source": [
        "train_generator = train_datagen.flow_from_directory(\n",
        "    '/content/drive/MyDrive/VegeFinderCopy',\n",
        "    target_size=(224, 224),\n",
        "    batch_size=32,\n",
        "    class_mode='categorical',\n",
        "    subset='training'\n",
        ")"
      ]
    },
    {
      "cell_type": "code",
      "execution_count": null,
      "metadata": {
        "colab": {
          "base_uri": "https://localhost:8080/"
        },
        "id": "7XpBp-HMkkKz",
        "outputId": "b645274e-35ea-47a1-9c90-375b1fd37bdc"
      },
      "outputs": [
        {
          "output_type": "stream",
          "name": "stdout",
          "text": [
            "Found 1027 images belonging to 38 classes.\n"
          ]
        }
      ],
      "source": [
        "validation_generator = train_datagen.flow_from_directory(\n",
        "    '/content/drive/MyDrive/VegeFinderCopy',\n",
        "    target_size=(224, 224),\n",
        "    batch_size=32,\n",
        "    class_mode='categorical',\n",
        "    subset='validation'\n",
        ")"
      ]
    },
    {
      "cell_type": "code",
      "execution_count": null,
      "metadata": {
        "id": "40GABzymnmGR",
        "colab": {
          "base_uri": "https://localhost:8080/"
        },
        "outputId": "860d9145-bc72-4d98-8962-82113c427fb0"
      },
      "outputs": [
        {
          "output_type": "stream",
          "name": "stdout",
          "text": [
            "['Petai', 'Peterseli', 'Rebung', 'Serai', 'bawang bombay', 'bawang merah', 'bawang putih', 'bayam', 'bayam merah', 'brokoli', 'buncis', 'cabai', 'cauliflower', 'daun bawang', 'jengkol', 'kacang panjang', 'kailan', 'kale', 'kangkung', 'kates', 'kecambah', 'kecipir', 'kemangi', 'kubis', 'lobak', 'paprika', 'pare', 'peas', 'potato', 'sawi', 'selada', 'seledri', 'singkong', 'spinach', 'terong', 'timun', 'tomat', 'wortel']\n"
          ]
        }
      ],
      "source": [
        "import os\n",
        "\n",
        "# Mendapatkan daftar nama kelas dari nama folder\n",
        "class_names = os.listdir('/content/drive/MyDrive/VegeFinderCopy')\n",
        "\n",
        "# Menyortir daftar nama kelas secara alfabetis\n",
        "class_names.sort()\n",
        "\n",
        "# Menampilkan daftar nama kelas\n",
        "print(class_names)\n"
      ]
    },
    {
      "cell_type": "code",
      "execution_count": null,
      "metadata": {
        "id": "tYongcRVkzad"
      },
      "outputs": [],
      "source": [
        "# Compile the model\n",
        "model.compile(optimizer='adam', loss='categorical_crossentropy', metrics=['accuracy'])"
      ]
    },
    {
      "cell_type": "code",
      "execution_count": null,
      "metadata": {
        "colab": {
          "base_uri": "https://localhost:8080/"
        },
        "id": "5UzD0qj5k3O6",
        "outputId": "74ef160b-66b4-42bf-ba70-0f029fdb9656"
      },
      "outputs": [
        {
          "output_type": "stream",
          "name": "stdout",
          "text": [
            "Epoch 1/50\n",
            " 28/131 [=====>........................] - ETA: 17:49 - loss: 3.0395 - accuracy: 0.2567"
          ]
        },
        {
          "output_type": "stream",
          "name": "stderr",
          "text": [
            "/usr/local/lib/python3.10/dist-packages/PIL/Image.py:975: UserWarning: Palette images with Transparency expressed in bytes should be converted to RGBA images\n",
            "  warnings.warn(\n"
          ]
        },
        {
          "output_type": "stream",
          "name": "stdout",
          "text": [
            "131/131 [==============================] - 1615s 12s/step - loss: 1.6807 - accuracy: 0.5577 - val_loss: 0.9174 - val_accuracy: 0.7488\n",
            "Epoch 2/50\n",
            "131/131 [==============================] - 323s 2s/step - loss: 0.6219 - accuracy: 0.8214 - val_loss: 0.7676 - val_accuracy: 0.7936\n",
            "Epoch 3/50\n",
            "131/131 [==============================] - 330s 3s/step - loss: 0.3875 - accuracy: 0.8940 - val_loss: 0.7254 - val_accuracy: 0.7936\n",
            "Epoch 4/50\n",
            "131/131 [==============================] - 308s 2s/step - loss: 0.2367 - accuracy: 0.9428 - val_loss: 0.7054 - val_accuracy: 0.8121\n",
            "Epoch 5/50\n",
            "131/131 [==============================] - 333s 3s/step - loss: 0.1539 - accuracy: 0.9691 - val_loss: 0.6941 - val_accuracy: 0.8169\n",
            "Epoch 6/50\n",
            "131/131 [==============================] - 315s 2s/step - loss: 0.1013 - accuracy: 0.9825 - val_loss: 0.7412 - val_accuracy: 0.8014\n",
            "Epoch 7/50\n",
            "131/131 [==============================] - 328s 3s/step - loss: 0.0669 - accuracy: 0.9947 - val_loss: 0.7054 - val_accuracy: 0.8189\n",
            "Epoch 8/50\n",
            "131/131 [==============================] - 317s 2s/step - loss: 0.0462 - accuracy: 0.9959 - val_loss: 0.7184 - val_accuracy: 0.8160\n",
            "Epoch 9/50\n",
            "131/131 [==============================] - 303s 2s/step - loss: 0.0324 - accuracy: 0.9986 - val_loss: 0.7221 - val_accuracy: 0.8267\n",
            "Epoch 10/50\n",
            "131/131 [==============================] - 318s 2s/step - loss: 0.0232 - accuracy: 0.9993 - val_loss: 0.7354 - val_accuracy: 0.8189\n",
            "Epoch 11/50\n",
            "131/131 [==============================] - 335s 3s/step - loss: 0.0189 - accuracy: 0.9995 - val_loss: 0.7264 - val_accuracy: 0.8277\n",
            "Epoch 12/50\n",
            "131/131 [==============================] - 316s 2s/step - loss: 0.0139 - accuracy: 0.9998 - val_loss: 0.7528 - val_accuracy: 0.8277\n",
            "Epoch 13/50\n",
            "131/131 [==============================] - 325s 2s/step - loss: 0.0147 - accuracy: 0.9995 - val_loss: 0.7624 - val_accuracy: 0.8228\n",
            "Epoch 14/50\n",
            "131/131 [==============================] - 308s 2s/step - loss: 0.0104 - accuracy: 0.9998 - val_loss: 0.7615 - val_accuracy: 0.8267\n",
            "Epoch 15/50\n",
            "131/131 [==============================] - 306s 2s/step - loss: 0.0093 - accuracy: 0.9998 - val_loss: 0.7759 - val_accuracy: 0.8228\n",
            "Epoch 16/50\n",
            "131/131 [==============================] - 281s 2s/step - loss: 0.0114 - accuracy: 0.9995 - val_loss: 0.7864 - val_accuracy: 0.8286\n",
            "Epoch 17/50\n",
            "131/131 [==============================] - 309s 2s/step - loss: 0.0075 - accuracy: 0.9998 - val_loss: 0.7828 - val_accuracy: 0.8286\n",
            "Epoch 18/50\n",
            "131/131 [==============================] - 305s 2s/step - loss: 0.0093 - accuracy: 0.9993 - val_loss: 0.7916 - val_accuracy: 0.8267\n",
            "Epoch 19/50\n",
            "131/131 [==============================] - 311s 2s/step - loss: 0.0086 - accuracy: 0.9993 - val_loss: 0.8042 - val_accuracy: 0.8238\n",
            "Epoch 20/50\n",
            "131/131 [==============================] - 291s 2s/step - loss: 0.0077 - accuracy: 0.9995 - val_loss: 0.8014 - val_accuracy: 0.8228\n",
            "Epoch 21/50\n",
            "131/131 [==============================] - 327s 3s/step - loss: 0.0054 - accuracy: 0.9998 - val_loss: 0.8436 - val_accuracy: 0.8247\n",
            "Epoch 22/50\n",
            "131/131 [==============================] - 310s 2s/step - loss: 0.0050 - accuracy: 0.9998 - val_loss: 0.8406 - val_accuracy: 0.8199\n",
            "Epoch 23/50\n",
            "131/131 [==============================] - 316s 2s/step - loss: 0.0095 - accuracy: 0.9988 - val_loss: 1.0027 - val_accuracy: 0.8140\n",
            "Epoch 24/50\n",
            "131/131 [==============================] - 308s 2s/step - loss: 0.0635 - accuracy: 0.9806 - val_loss: 1.2104 - val_accuracy: 0.7605\n",
            "Epoch 25/50\n",
            "131/131 [==============================] - 307s 2s/step - loss: 0.1719 - accuracy: 0.9416 - val_loss: 1.2234 - val_accuracy: 0.7478\n",
            "Epoch 26/50\n",
            "131/131 [==============================] - 306s 2s/step - loss: 0.0821 - accuracy: 0.9739 - val_loss: 1.1187 - val_accuracy: 0.7994\n",
            "Epoch 27/50\n",
            "131/131 [==============================] - 284s 2s/step - loss: 0.0167 - accuracy: 0.9962 - val_loss: 1.0984 - val_accuracy: 0.8208\n",
            "Epoch 28/50\n",
            "131/131 [==============================] - 306s 2s/step - loss: 0.0063 - accuracy: 0.9995 - val_loss: 1.0171 - val_accuracy: 0.8189\n",
            "Epoch 29/50\n",
            "131/131 [==============================] - 304s 2s/step - loss: 0.0044 - accuracy: 0.9995 - val_loss: 1.0219 - val_accuracy: 0.8160\n",
            "Epoch 30/50\n",
            "131/131 [==============================] - 308s 2s/step - loss: 0.0042 - accuracy: 0.9995 - val_loss: 1.0323 - val_accuracy: 0.8160\n",
            "Epoch 31/50\n",
            "131/131 [==============================] - 304s 2s/step - loss: 0.0024 - accuracy: 0.9998 - val_loss: 1.0532 - val_accuracy: 0.8228\n",
            "Epoch 32/50\n",
            "131/131 [==============================] - 307s 2s/step - loss: 0.0042 - accuracy: 0.9995 - val_loss: 1.0449 - val_accuracy: 0.8247\n",
            "Epoch 33/50\n",
            "131/131 [==============================] - 288s 2s/step - loss: 0.0019 - accuracy: 0.9998 - val_loss: 1.0543 - val_accuracy: 0.8140\n",
            "Epoch 34/50\n",
            "131/131 [==============================] - 305s 2s/step - loss: 0.0044 - accuracy: 0.9995 - val_loss: 1.0615 - val_accuracy: 0.8169\n",
            "Epoch 35/50\n",
            "131/131 [==============================] - 307s 2s/step - loss: 0.0044 - accuracy: 0.9995 - val_loss: 1.0408 - val_accuracy: 0.8150\n",
            "Epoch 36/50\n",
            "131/131 [==============================] - 286s 2s/step - loss: 0.0047 - accuracy: 0.9995 - val_loss: 1.0484 - val_accuracy: 0.8199\n",
            "Epoch 37/50\n",
            "131/131 [==============================] - 304s 2s/step - loss: 0.0021 - accuracy: 0.9998 - val_loss: 1.0920 - val_accuracy: 0.8189\n",
            "Epoch 38/50\n",
            "131/131 [==============================] - 306s 2s/step - loss: 0.0023 - accuracy: 0.9998 - val_loss: 1.0683 - val_accuracy: 0.8189\n",
            "Epoch 39/50\n",
            "131/131 [==============================] - 304s 2s/step - loss: 0.0026 - accuracy: 0.9998 - val_loss: 1.0884 - val_accuracy: 0.8189\n",
            "Epoch 40/50\n",
            "131/131 [==============================] - 306s 2s/step - loss: 0.0028 - accuracy: 0.9995 - val_loss: 1.0814 - val_accuracy: 0.8208\n",
            "Epoch 41/50\n",
            "131/131 [==============================] - 305s 2s/step - loss: 0.0018 - accuracy: 0.9998 - val_loss: 1.0727 - val_accuracy: 0.8218\n",
            "Epoch 42/50\n",
            "131/131 [==============================] - 304s 2s/step - loss: 0.0026 - accuracy: 0.9998 - val_loss: 1.1258 - val_accuracy: 0.8140\n",
            "Epoch 43/50\n",
            "131/131 [==============================] - 307s 2s/step - loss: 0.0043 - accuracy: 0.9995 - val_loss: 1.1200 - val_accuracy: 0.8208\n",
            "Epoch 44/50\n",
            "131/131 [==============================] - 308s 2s/step - loss: 0.0024 - accuracy: 0.9998 - val_loss: 1.1209 - val_accuracy: 0.8140\n",
            "Epoch 45/50\n",
            "131/131 [==============================] - 284s 2s/step - loss: 0.0032 - accuracy: 0.9998 - val_loss: 1.0931 - val_accuracy: 0.8238\n",
            "Epoch 46/50\n",
            "131/131 [==============================] - 305s 2s/step - loss: 0.0013 - accuracy: 0.9998 - val_loss: 1.1135 - val_accuracy: 0.8169\n",
            "Epoch 47/50\n",
            "131/131 [==============================] - 301s 2s/step - loss: 0.0026 - accuracy: 0.9993 - val_loss: 1.1064 - val_accuracy: 0.8218\n",
            "Epoch 48/50\n",
            "131/131 [==============================] - 311s 2s/step - loss: 0.0043 - accuracy: 0.9995 - val_loss: 1.1416 - val_accuracy: 0.8140\n",
            "Epoch 49/50\n",
            "131/131 [==============================] - 304s 2s/step - loss: 0.0031 - accuracy: 0.9995 - val_loss: 1.1204 - val_accuracy: 0.8169\n",
            "Epoch 50/50\n",
            "131/131 [==============================] - 309s 2s/step - loss: 0.0015 - accuracy: 0.9998 - val_loss: 1.0957 - val_accuracy: 0.8199\n"
          ]
        },
        {
          "output_type": "execute_result",
          "data": {
            "text/plain": [
              "<keras.callbacks.History at 0x7f2eb19192a0>"
            ]
          },
          "metadata": {},
          "execution_count": 15
        }
      ],
      "source": [
        "# Train the model\n",
        "model.fit(train_generator, validation_data=validation_generator, epochs=50)"
      ]
    },
    {
      "cell_type": "code",
      "source": [
        "# Save the trained model\n",
        "model.save('/content/drive/MyDrive/Model1')"
      ],
      "metadata": {
        "colab": {
          "base_uri": "https://localhost:8080/"
        },
        "id": "i89kUjpS6q-D",
        "outputId": "06ea47de-9a1f-4fc5-86bc-dd0661a502b6"
      },
      "execution_count": null,
      "outputs": [
        {
          "output_type": "stream",
          "name": "stderr",
          "text": [
            "WARNING:absl:Function `_wrapped_model` contains input name(s) mobilenetv2_1.00_224_input with unsupported characters which will be renamed to mobilenetv2_1_00_224_input in the SavedModel.\n",
            "WARNING:absl:`mobilenetv2_1.00_224_input` is not a valid tf.function parameter name. Sanitizing to `mobilenetv2_1_00_224_input`.\n",
            "WARNING:absl:`mobilenetv2_1.00_224_input` is not a valid tf.function parameter name. Sanitizing to `mobilenetv2_1_00_224_input`.\n",
            "WARNING:absl:`mobilenetv2_1.00_224_input` is not a valid tf.function parameter name. Sanitizing to `mobilenetv2_1_00_224_input`.\n",
            "WARNING:absl:Found untraced functions such as _update_step_xla, _jit_compiled_convolution_op, _jit_compiled_convolution_op, _jit_compiled_convolution_op, _jit_compiled_convolution_op while saving (showing 5 of 53). These functions will not be directly callable after loading.\n"
          ]
        }
      ]
    }
  ],
  "metadata": {
    "colab": {
      "provenance": [],
      "include_colab_link": true
    },
    "kernelspec": {
      "display_name": "Python 3",
      "name": "python3"
    },
    "language_info": {
      "name": "python"
    }
  },
  "nbformat": 4,
  "nbformat_minor": 0
}